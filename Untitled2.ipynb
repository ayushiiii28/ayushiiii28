{
  "nbformat": 4,
  "nbformat_minor": 0,
  "metadata": {
    "colab": {
      "provenance": [],
      "authorship_tag": "ABX9TyPcNnWbSZL2GVAOLb+sv5cF",
      "include_colab_link": true
    },
    "kernelspec": {
      "name": "python3",
      "display_name": "Python 3"
    },
    "language_info": {
      "name": "python"
    }
  },
  "cells": [
    {
      "cell_type": "markdown",
      "metadata": {
        "id": "view-in-github",
        "colab_type": "text"
      },
      "source": [
        "<a href=\"https://colab.research.google.com/github/ayushiiii28/ayushiiii28/blob/main/Untitled2.ipynb\" target=\"_parent\"><img src=\"https://colab.research.google.com/assets/colab-badge.svg\" alt=\"Open In Colab\"/></a>"
      ]
    },
    {
      "cell_type": "code",
      "execution_count": 1,
      "metadata": {
        "colab": {
          "base_uri": "https://localhost:8080/"
        },
        "id": "wjmDexsrRLdt",
        "outputId": "abc584c7-8289-41ac-f5a8-953cee35919c"
      },
      "outputs": [
        {
          "output_type": "stream",
          "name": "stdout",
          "text": [
            "[0, 1, 1, 2, 3, 5, 8, 13, 21, 34]\n"
          ]
        }
      ],
      "source": [
        "#answer 1\n",
        "def fibonacci(n):\n",
        "    if n <= 0:\n",
        "        return []\n",
        "    elif n == 1:\n",
        "        return [0]\n",
        "    elif n == 2:\n",
        "        return [0, 1]\n",
        "\n",
        "    fib_sequence = [0, 1]\n",
        "    for i in range(2, n):\n",
        "        fib_sequence.append(fib_sequence[-1] + fib_sequence[-2])\n",
        "\n",
        "    return fib_sequence\n",
        "\n",
        "\n",
        "print(fibonacci(10))"
      ]
    },
    {
      "cell_type": "code",
      "source": [
        "#answer2\n",
        "def is_prime(num):\n",
        "    if num <= 1:\n",
        "        return False\n",
        "    if num == 2:\n",
        "        return True\n",
        "    if num % 2 == 0:\n",
        "        return False\n",
        "    for i in range(3, int(num**0.5) + 1, 2):\n",
        "        if num % i == 0:\n",
        "            return False\n",
        "    return True\n",
        "\n",
        "\n",
        "print(is_prime(2))\n",
        "print(is_prime(4))\n",
        "print(is_prime(17))\n",
        "print(is_prime(18))"
      ],
      "metadata": {
        "colab": {
          "base_uri": "https://localhost:8080/"
        },
        "id": "4DeAg0SiR1iN",
        "outputId": "22754b49-1cad-4c1e-ce3e-c0cccd899433"
      },
      "execution_count": 2,
      "outputs": [
        {
          "output_type": "stream",
          "name": "stdout",
          "text": [
            "True\n",
            "False\n",
            "True\n",
            "False\n"
          ]
        }
      ]
    },
    {
      "cell_type": "code",
      "source": [
        "#Task 2\n",
        "#answer1\n",
        "import pandas as pd\n",
        "data = {\n",
        "'Date': ['2024-01-01', '2024-01-02', '2024-01-03', '2024-01-04', '2024-01-05'],\n",
        "'Sales': [200, 220, 210, 215, 225],\n",
        "'Region': ['North', 'South', 'East', 'West', 'North'],\n",
        "'Manager': ['John', 'Jane', 'Joe', 'Jake', 'John']\n",
        "}\n",
        "df = pd.DataFrame(data)\n",
        "print(df.head())"
      ],
      "metadata": {
        "colab": {
          "base_uri": "https://localhost:8080/"
        },
        "id": "3FfzfbTUSZfx",
        "outputId": "1382b782-21a8-4636-e441-4d8cb8aa3d0e"
      },
      "execution_count": 3,
      "outputs": [
        {
          "output_type": "stream",
          "name": "stdout",
          "text": [
            "         Date  Sales Region Manager\n",
            "0  2024-01-01    200  North    John\n",
            "1  2024-01-02    220  South    Jane\n",
            "2  2024-01-03    210   East     Joe\n",
            "3  2024-01-04    215   West    Jake\n",
            "4  2024-01-05    225  North    John\n"
          ]
        }
      ]
    },
    {
      "cell_type": "code",
      "source": [
        "#answer2\n",
        "df['Profit'] = df['Sales'] * 0.1\n",
        "print(df)"
      ],
      "metadata": {
        "colab": {
          "base_uri": "https://localhost:8080/"
        },
        "id": "-02b-X51Sowh",
        "outputId": "f4ad3e7d-0153-4896-abf5-5aa847edf099"
      },
      "execution_count": 4,
      "outputs": [
        {
          "output_type": "stream",
          "name": "stdout",
          "text": [
            "         Date  Sales Region Manager  Profit\n",
            "0  2024-01-01    200  North    John    20.0\n",
            "1  2024-01-02    220  South    Jane    22.0\n",
            "2  2024-01-03    210   East     Joe    21.0\n",
            "3  2024-01-04    215   West    Jake    21.5\n",
            "4  2024-01-05    225  North    John    22.5\n"
          ]
        }
      ]
    },
    {
      "cell_type": "code",
      "source": [
        "#answer3\n",
        "total_sales_by_region = df.groupby('Region')['Sales'].sum()\n",
        "print(total_sales_by_region)"
      ],
      "metadata": {
        "colab": {
          "base_uri": "https://localhost:8080/"
        },
        "id": "dA-3Mi9TSupK",
        "outputId": "2d296a85-d211-4a1e-d44b-5e01daba5912"
      },
      "execution_count": 5,
      "outputs": [
        {
          "output_type": "stream",
          "name": "stdout",
          "text": [
            "Region\n",
            "East     210\n",
            "North    425\n",
            "South    220\n",
            "West     215\n",
            "Name: Sales, dtype: int64\n"
          ]
        }
      ]
    },
    {
      "cell_type": "code",
      "source": [
        "#answer4\n",
        "avg_sales_by_region = df.groupby('Region')['Sales'].mean()\n",
        "region_highest_avg_sales = avg_sales_by_region.idxmax()\n",
        "highest_avg_sales_value = avg_sales_by_region.max()\n",
        "\n",
        "print(\"Task 4: Region with the highest average sales:\")\n",
        "print(f\"Region: {region_highest_avg_sales}, Average Sales: {highest_avg_sales_value}\")"
      ],
      "metadata": {
        "colab": {
          "base_uri": "https://localhost:8080/"
        },
        "id": "HQ0yS4aOS1QW",
        "outputId": "c3560700-383f-42d3-e6ee-47006fd4de9b"
      },
      "execution_count": 6,
      "outputs": [
        {
          "output_type": "stream",
          "name": "stdout",
          "text": [
            "Task 4: Region with the highest average sales:\n",
            "Region: South, Average Sales: 220.0\n"
          ]
        }
      ]
    },
    {
      "cell_type": "code",
      "source": [
        "#Task3\n",
        "#answer1\n",
        "import pandas as pd\n",
        "url = \"https://raw.githubusercontent.com/datasciencedojo/datasets/master/titanic.csv\"\n",
        "df = pd.read_csv(url)\n",
        "print(\"Task 1: Displaying first 5 rows of the Titanic DataFrame:\")\n",
        "print(df.head())\n",
        "print()\n",
        "\n"
      ],
      "metadata": {
        "colab": {
          "base_uri": "https://localhost:8080/"
        },
        "id": "aJzVSCYhTz-P",
        "outputId": "56976a3c-512e-41b5-f578-6e200ce0815a"
      },
      "execution_count": 9,
      "outputs": [
        {
          "output_type": "stream",
          "name": "stdout",
          "text": [
            "Task 1: Displaying first 5 rows of the Titanic DataFrame:\n",
            "   PassengerId  Survived  Pclass  \\\n",
            "0            1         0       3   \n",
            "1            2         1       1   \n",
            "2            3         1       3   \n",
            "3            4         1       1   \n",
            "4            5         0       3   \n",
            "\n",
            "                                                Name     Sex   Age  SibSp  \\\n",
            "0                            Braund, Mr. Owen Harris    male  22.0      1   \n",
            "1  Cumings, Mrs. John Bradley (Florence Briggs Th...  female  38.0      1   \n",
            "2                             Heikkinen, Miss. Laina  female  26.0      0   \n",
            "3       Futrelle, Mrs. Jacques Heath (Lily May Peel)  female  35.0      1   \n",
            "4                           Allen, Mr. William Henry    male  35.0      0   \n",
            "\n",
            "   Parch            Ticket     Fare Cabin Embarked  \n",
            "0      0         A/5 21171   7.2500   NaN        S  \n",
            "1      0          PC 17599  71.2833   C85        C  \n",
            "2      0  STON/O2. 3101282   7.9250   NaN        S  \n",
            "3      0            113803  53.1000  C123        S  \n",
            "4      0            373450   8.0500   NaN        S  \n",
            "\n"
          ]
        }
      ]
    },
    {
      "cell_type": "code",
      "source": [
        "#answer2\n",
        "print(\"Task 2: Summary statistics of the Titanic DataFrame:\")\n",
        "print(df.describe())\n",
        "print()"
      ],
      "metadata": {
        "colab": {
          "base_uri": "https://localhost:8080/"
        },
        "id": "eeYh_OWXUxTF",
        "outputId": "6dd48afe-ce94-44a0-c959-158ec99d648a"
      },
      "execution_count": 10,
      "outputs": [
        {
          "output_type": "stream",
          "name": "stdout",
          "text": [
            "Task 2: Summary statistics of the Titanic DataFrame:\n",
            "       PassengerId    Survived      Pclass         Age       SibSp  \\\n",
            "count   891.000000  891.000000  891.000000  714.000000  891.000000   \n",
            "mean    446.000000    0.383838    2.308642   29.699118    0.523008   \n",
            "std     257.353842    0.486592    0.836071   14.526497    1.102743   \n",
            "min       1.000000    0.000000    1.000000    0.420000    0.000000   \n",
            "25%     223.500000    0.000000    2.000000   20.125000    0.000000   \n",
            "50%     446.000000    0.000000    3.000000   28.000000    0.000000   \n",
            "75%     668.500000    1.000000    3.000000   38.000000    1.000000   \n",
            "max     891.000000    1.000000    3.000000   80.000000    8.000000   \n",
            "\n",
            "            Parch        Fare  \n",
            "count  891.000000  891.000000  \n",
            "mean     0.381594   32.204208  \n",
            "std      0.806057   49.693429  \n",
            "min      0.000000    0.000000  \n",
            "25%      0.000000    7.910400  \n",
            "50%      0.000000   14.454200  \n",
            "75%      0.000000   31.000000  \n",
            "max      6.000000  512.329200  \n",
            "\n"
          ]
        }
      ]
    },
    {
      "cell_type": "code",
      "source": [
        "#answer3\n",
        "print(\"Task 3: Checking for null values in the Titanic DataFrame:\")\n",
        "print(df.isnull().sum())\n",
        "print()"
      ],
      "metadata": {
        "colab": {
          "base_uri": "https://localhost:8080/"
        },
        "id": "QIc0_dSdU1ZX",
        "outputId": "a582acd6-6c1b-449b-82a2-78b1409a8200"
      },
      "execution_count": 11,
      "outputs": [
        {
          "output_type": "stream",
          "name": "stdout",
          "text": [
            "Task 3: Checking for null values in the Titanic DataFrame:\n",
            "PassengerId      0\n",
            "Survived         0\n",
            "Pclass           0\n",
            "Name             0\n",
            "Sex              0\n",
            "Age            177\n",
            "SibSp            0\n",
            "Parch            0\n",
            "Ticket           0\n",
            "Fare             0\n",
            "Cabin          687\n",
            "Embarked         2\n",
            "dtype: int64\n",
            "\n"
          ]
        }
      ]
    },
    {
      "cell_type": "code",
      "source": [
        "#answer4\n",
        "mean_age = df['Age'].mean()\n",
        "df['Age'].fillna(mean_age, inplace=True)\n",
        "print(df)"
      ],
      "metadata": {
        "colab": {
          "base_uri": "https://localhost:8080/"
        },
        "id": "6k6C1GnOU4ig",
        "outputId": "0fba67b4-342a-4197-8326-b0f789ae6beb"
      },
      "execution_count": 20,
      "outputs": [
        {
          "output_type": "stream",
          "name": "stdout",
          "text": [
            "     PassengerId  Survived  Pclass  \\\n",
            "0              1         0       3   \n",
            "1              2         1       1   \n",
            "2              3         1       3   \n",
            "3              4         1       1   \n",
            "4              5         0       3   \n",
            "..           ...       ...     ...   \n",
            "886          887         0       2   \n",
            "887          888         1       1   \n",
            "888          889         0       3   \n",
            "889          890         1       1   \n",
            "890          891         0       3   \n",
            "\n",
            "                                                  Name  Sex        Age  SibSp  \\\n",
            "0                              Braund, Mr. Owen Harris    0  22.000000      1   \n",
            "1    Cumings, Mrs. John Bradley (Florence Briggs Th...    1  38.000000      1   \n",
            "2                               Heikkinen, Miss. Laina    1  26.000000      0   \n",
            "3         Futrelle, Mrs. Jacques Heath (Lily May Peel)    1  35.000000      1   \n",
            "4                             Allen, Mr. William Henry    0  35.000000      0   \n",
            "..                                                 ...  ...        ...    ...   \n",
            "886                              Montvila, Rev. Juozas    0  27.000000      0   \n",
            "887                       Graham, Miss. Margaret Edith    1  19.000000      0   \n",
            "888           Johnston, Miss. Catherine Helen \"Carrie\"    1  29.699118      1   \n",
            "889                              Behr, Mr. Karl Howell    0  26.000000      0   \n",
            "890                                Dooley, Mr. Patrick    0  32.000000      0   \n",
            "\n",
            "     Parch            Ticket     Fare Cabin Embarked  FamilySize  \n",
            "0        0         A/5 21171   7.2500   NaN        S           1  \n",
            "1        0          PC 17599  71.2833   C85        C           1  \n",
            "2        0  STON/O2. 3101282   7.9250   NaN        S           0  \n",
            "3        0            113803  53.1000  C123        S           1  \n",
            "4        0            373450   8.0500   NaN        S           0  \n",
            "..     ...               ...      ...   ...      ...         ...  \n",
            "886      0            211536  13.0000   NaN        S           0  \n",
            "887      0            112053  30.0000   B42        S           0  \n",
            "888      2        W./C. 6607  23.4500   NaN        S           3  \n",
            "889      0            111369  30.0000  C148        C           0  \n",
            "890      0            370376   7.7500   NaN        Q           0  \n",
            "\n",
            "[889 rows x 13 columns]\n"
          ]
        }
      ]
    },
    {
      "cell_type": "code",
      "source": [
        "#answer5\n",
        "df.dropna(subset=['Embarked'], inplace=True)\n",
        "print(df)"
      ],
      "metadata": {
        "colab": {
          "base_uri": "https://localhost:8080/"
        },
        "id": "KTvjzBOPVFOH",
        "outputId": "16f6c0e4-76be-4ad9-bee8-29eaaec47f70"
      },
      "execution_count": 21,
      "outputs": [
        {
          "output_type": "stream",
          "name": "stdout",
          "text": [
            "     PassengerId  Survived  Pclass  \\\n",
            "0              1         0       3   \n",
            "1              2         1       1   \n",
            "2              3         1       3   \n",
            "3              4         1       1   \n",
            "4              5         0       3   \n",
            "..           ...       ...     ...   \n",
            "886          887         0       2   \n",
            "887          888         1       1   \n",
            "888          889         0       3   \n",
            "889          890         1       1   \n",
            "890          891         0       3   \n",
            "\n",
            "                                                  Name  Sex        Age  SibSp  \\\n",
            "0                              Braund, Mr. Owen Harris    0  22.000000      1   \n",
            "1    Cumings, Mrs. John Bradley (Florence Briggs Th...    1  38.000000      1   \n",
            "2                               Heikkinen, Miss. Laina    1  26.000000      0   \n",
            "3         Futrelle, Mrs. Jacques Heath (Lily May Peel)    1  35.000000      1   \n",
            "4                             Allen, Mr. William Henry    0  35.000000      0   \n",
            "..                                                 ...  ...        ...    ...   \n",
            "886                              Montvila, Rev. Juozas    0  27.000000      0   \n",
            "887                       Graham, Miss. Margaret Edith    1  19.000000      0   \n",
            "888           Johnston, Miss. Catherine Helen \"Carrie\"    1  29.699118      1   \n",
            "889                              Behr, Mr. Karl Howell    0  26.000000      0   \n",
            "890                                Dooley, Mr. Patrick    0  32.000000      0   \n",
            "\n",
            "     Parch            Ticket     Fare Cabin Embarked  FamilySize  \n",
            "0        0         A/5 21171   7.2500   NaN        S           1  \n",
            "1        0          PC 17599  71.2833   C85        C           1  \n",
            "2        0  STON/O2. 3101282   7.9250   NaN        S           0  \n",
            "3        0            113803  53.1000  C123        S           1  \n",
            "4        0            373450   8.0500   NaN        S           0  \n",
            "..     ...               ...      ...   ...      ...         ...  \n",
            "886      0            211536  13.0000   NaN        S           0  \n",
            "887      0            112053  30.0000   B42        S           0  \n",
            "888      2        W./C. 6607  23.4500   NaN        S           3  \n",
            "889      0            111369  30.0000  C148        C           0  \n",
            "890      0            370376   7.7500   NaN        Q           0  \n",
            "\n",
            "[889 rows x 13 columns]\n"
          ]
        }
      ]
    },
    {
      "cell_type": "code",
      "source": [
        "#answer6\n",
        "df['FamilySize'] = df['SibSp'] + df['Parch']\n",
        "print(df)\n"
      ],
      "metadata": {
        "colab": {
          "base_uri": "https://localhost:8080/"
        },
        "id": "D6BRcJdfVK3b",
        "outputId": "f90b932e-857c-4a9f-85f4-d8005733e44b"
      },
      "execution_count": 22,
      "outputs": [
        {
          "output_type": "stream",
          "name": "stdout",
          "text": [
            "     PassengerId  Survived  Pclass  \\\n",
            "0              1         0       3   \n",
            "1              2         1       1   \n",
            "2              3         1       3   \n",
            "3              4         1       1   \n",
            "4              5         0       3   \n",
            "..           ...       ...     ...   \n",
            "886          887         0       2   \n",
            "887          888         1       1   \n",
            "888          889         0       3   \n",
            "889          890         1       1   \n",
            "890          891         0       3   \n",
            "\n",
            "                                                  Name  Sex        Age  SibSp  \\\n",
            "0                              Braund, Mr. Owen Harris    0  22.000000      1   \n",
            "1    Cumings, Mrs. John Bradley (Florence Briggs Th...    1  38.000000      1   \n",
            "2                               Heikkinen, Miss. Laina    1  26.000000      0   \n",
            "3         Futrelle, Mrs. Jacques Heath (Lily May Peel)    1  35.000000      1   \n",
            "4                             Allen, Mr. William Henry    0  35.000000      0   \n",
            "..                                                 ...  ...        ...    ...   \n",
            "886                              Montvila, Rev. Juozas    0  27.000000      0   \n",
            "887                       Graham, Miss. Margaret Edith    1  19.000000      0   \n",
            "888           Johnston, Miss. Catherine Helen \"Carrie\"    1  29.699118      1   \n",
            "889                              Behr, Mr. Karl Howell    0  26.000000      0   \n",
            "890                                Dooley, Mr. Patrick    0  32.000000      0   \n",
            "\n",
            "     Parch            Ticket     Fare Cabin Embarked  FamilySize  \n",
            "0        0         A/5 21171   7.2500   NaN        S           1  \n",
            "1        0          PC 17599  71.2833   C85        C           1  \n",
            "2        0  STON/O2. 3101282   7.9250   NaN        S           0  \n",
            "3        0            113803  53.1000  C123        S           1  \n",
            "4        0            373450   8.0500   NaN        S           0  \n",
            "..     ...               ...      ...   ...      ...         ...  \n",
            "886      0            211536  13.0000   NaN        S           0  \n",
            "887      0            112053  30.0000   B42        S           0  \n",
            "888      2        W./C. 6607  23.4500   NaN        S           3  \n",
            "889      0            111369  30.0000  C148        C           0  \n",
            "890      0            370376   7.7500   NaN        Q           0  \n",
            "\n",
            "[889 rows x 13 columns]\n"
          ]
        }
      ]
    },
    {
      "cell_type": "code",
      "source": [
        "#answer7\n",
        "df['Sex'] = df['Sex'].map({'male': 0, 'female': 1})\n",
        "print(df)"
      ],
      "metadata": {
        "colab": {
          "base_uri": "https://localhost:8080/"
        },
        "id": "wJpQMgdFVNWU",
        "outputId": "253f1edb-d202-4fee-f421-a0d4076250bf"
      },
      "execution_count": 23,
      "outputs": [
        {
          "output_type": "stream",
          "name": "stdout",
          "text": [
            "     PassengerId  Survived  Pclass  \\\n",
            "0              1         0       3   \n",
            "1              2         1       1   \n",
            "2              3         1       3   \n",
            "3              4         1       1   \n",
            "4              5         0       3   \n",
            "..           ...       ...     ...   \n",
            "886          887         0       2   \n",
            "887          888         1       1   \n",
            "888          889         0       3   \n",
            "889          890         1       1   \n",
            "890          891         0       3   \n",
            "\n",
            "                                                  Name  Sex        Age  SibSp  \\\n",
            "0                              Braund, Mr. Owen Harris  NaN  22.000000      1   \n",
            "1    Cumings, Mrs. John Bradley (Florence Briggs Th...  NaN  38.000000      1   \n",
            "2                               Heikkinen, Miss. Laina  NaN  26.000000      0   \n",
            "3         Futrelle, Mrs. Jacques Heath (Lily May Peel)  NaN  35.000000      1   \n",
            "4                             Allen, Mr. William Henry  NaN  35.000000      0   \n",
            "..                                                 ...  ...        ...    ...   \n",
            "886                              Montvila, Rev. Juozas  NaN  27.000000      0   \n",
            "887                       Graham, Miss. Margaret Edith  NaN  19.000000      0   \n",
            "888           Johnston, Miss. Catherine Helen \"Carrie\"  NaN  29.699118      1   \n",
            "889                              Behr, Mr. Karl Howell  NaN  26.000000      0   \n",
            "890                                Dooley, Mr. Patrick  NaN  32.000000      0   \n",
            "\n",
            "     Parch            Ticket     Fare Cabin Embarked  FamilySize  \n",
            "0        0         A/5 21171   7.2500   NaN        S           1  \n",
            "1        0          PC 17599  71.2833   C85        C           1  \n",
            "2        0  STON/O2. 3101282   7.9250   NaN        S           0  \n",
            "3        0            113803  53.1000  C123        S           1  \n",
            "4        0            373450   8.0500   NaN        S           0  \n",
            "..     ...               ...      ...   ...      ...         ...  \n",
            "886      0            211536  13.0000   NaN        S           0  \n",
            "887      0            112053  30.0000   B42        S           0  \n",
            "888      2        W./C. 6607  23.4500   NaN        S           3  \n",
            "889      0            111369  30.0000  C148        C           0  \n",
            "890      0            370376   7.7500   NaN        Q           0  \n",
            "\n",
            "[889 rows x 13 columns]\n"
          ]
        }
      ]
    },
    {
      "cell_type": "code",
      "source": [
        "#answer8\n",
        "avg = df.groupby('Pclass')['Fare'].mean()\n",
        "print(\"Task 8: Average fare for each passenger class:\")\n",
        "print(avg)\n",
        "print()"
      ],
      "metadata": {
        "colab": {
          "base_uri": "https://localhost:8080/"
        },
        "id": "nmTFush1VRm_",
        "outputId": "dbb61ae0-cf05-4c73-cac8-7c8f99269c66"
      },
      "execution_count": 24,
      "outputs": [
        {
          "output_type": "stream",
          "name": "stdout",
          "text": [
            "Task 8: Average fare for each passenger class:\n",
            "Pclass\n",
            "1    84.193516\n",
            "2    20.662183\n",
            "3    13.675550\n",
            "Name: Fare, dtype: float64\n",
            "\n"
          ]
        }
      ]
    },
    {
      "cell_type": "code",
      "source": [
        "#answer9\n",
        "common_port = df['Embarked'].mode()[0]\n",
        "print(\"Task 9: Most common port of embarkation:\", common_port)\n",
        "print()"
      ],
      "metadata": {
        "colab": {
          "base_uri": "https://localhost:8080/"
        },
        "id": "yYXoteQjVRpX",
        "outputId": "8069e0da-b200-41be-c7a0-db7bc58c9f77"
      },
      "execution_count": 25,
      "outputs": [
        {
          "output_type": "stream",
          "name": "stdout",
          "text": [
            "Task 9: Most common port of embarkation: S\n",
            "\n"
          ]
        }
      ]
    },
    {
      "cell_type": "code",
      "source": [
        "#answer10\n",
        "survival = pd.pivot_table(df, values='Survived', index='Sex', columns='Pclass', aggfunc='mean')\n",
        "print(\"Task 10: Pivot table showing survival rate for each Sex and Pclass combination:\")\n",
        "print(survival)"
      ],
      "metadata": {
        "colab": {
          "base_uri": "https://localhost:8080/"
        },
        "id": "3OUtS6k-VcS1",
        "outputId": "a744a278-2df4-48f5-b186-75d5caa42def"
      },
      "execution_count": 26,
      "outputs": [
        {
          "output_type": "stream",
          "name": "stdout",
          "text": [
            "Task 10: Pivot table showing survival rate for each Sex and Pclass combination:\n",
            "Empty DataFrame\n",
            "Columns: []\n",
            "Index: []\n"
          ]
        }
      ]
    }
  ]
}