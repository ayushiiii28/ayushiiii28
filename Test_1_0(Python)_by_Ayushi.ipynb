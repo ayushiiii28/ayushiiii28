{
  "cells": [
    {
      "cell_type": "markdown",
      "metadata": {
        "id": "view-in-github",
        "colab_type": "text"
      },
      "source": [
        "<a href=\"https://colab.research.google.com/github/ayushiiii28/ayushiiii28/blob/main/Test_1_0(Python)_by_Ayushi.ipynb\" target=\"_parent\"><img src=\"https://colab.research.google.com/assets/colab-badge.svg\" alt=\"Open In Colab\"/></a>"
      ]
    },
    {
      "cell_type": "code",
      "execution_count": null,
      "id": "8019c971-b3c7-4de7-80b8-5f6429d76376",
      "metadata": {
        "id": "8019c971-b3c7-4de7-80b8-5f6429d76376"
      },
      "outputs": [],
      "source": [
        "# Jupyter Notebook for Python Basics Practice\n",
        "\n",
        "## Multiple-Choice Questions (MCQs)\n",
        "\n",
        "### Question 1\n",
        "# What is the output of the following code?\n",
        "# print(type(5.0))\n",
        "# a) int\n",
        "# b) float\n",
        "# c) str\n",
        "# d) list\n",
        "b\n",
        "### Question 2\n",
        "# What is the correct syntax to output \"Hello World\" in Python?\n",
        "# a) echo \"Hello World\"\n",
        "# b) print(\"Hello World\")\n",
        "# c) printf(\"Hello World\")\n",
        "# d) System.out.println(\"Hello World\")\n",
        "b\n",
        "### Question 3\n",
        "# Which of the following is a correct variable declaration in Python?\n",
        "# a) var x = 10\n",
        "# b) int x = 10\n",
        "# c) x = 10\n",
        "# d) declare x = 10\n",
        "c\n",
        "### Question 4\n",
        "# What is the output of the following code?\n",
        "# print(2 ** 3)\n",
        "# a) 6\n",
        "# b) 8\n",
        "# c) 9\n",
        "# d) 12\n",
        "b\n",
        "### Question 5\n",
        "# Which of the following is used to define a block of code in Python?\n",
        "# a) Curly braces\n",
        "# b) Parentheses\n",
        "# c) Indentation\n",
        "# d) Quotation marks\n",
        "c\n",
        "### Question 6\n",
        "# How do you start a comment in Python?\n",
        "# a) //\n",
        "# b) /*\n",
        "# c) <!--\n",
        "# d) #\n",
        "d\n",
        "### Question 7\n",
        "# What is the output of the following code?\n",
        "# print(\"Hello\" + \" \" + \"World\")\n",
        "# a) Hello World\n",
        "# b) HelloWorld\n",
        "# c) Hello+World\n",
        "# d) Error\n",
        "a\n",
        "### Question 8\n",
        "# Which of the following is the correct way to create a list in Python?\n",
        "# a) list = [1, 2, 3]\n",
        "# b) list = (1, 2, 3)\n",
        "# c) list = {1, 2, 3}\n",
        "# d) list = 1, 2, 3\n",
        "a\n",
        "### Question 9\n",
        "# What is the output of the following code?\n",
        "# a = [1, 2, 3]\n",
        "# print(len(a))\n",
        "# a) 2\n",
        "# b) 3\n",
        "# c) 4\n",
        "# d) Error\n",
        "b\n",
        "### Question 10\n",
        "# Which of the following statements is true?\n",
        "# a) A tuple is mutable\n",
        "# b) A list is immutable\n",
        "# c) A tuple is immutable\n",
        "# d) A list is immutable and a tuple is mutable\n",
        "c\n",
        "### Question 11\n",
        "# What will be the output of the following code?\n",
        "# x = 10\n",
        "# if x > 5:\n",
        "#     print(\"Greater\")\n",
        "# else:\n",
        "#     print(\"Smaller\")\n",
        "# a) Greater\n",
        "# b) Smaller\n",
        "# c) Error\n",
        "# d) None of the above\n",
        "a\n",
        "### Question 12\n",
        "# How do you create a dictionary in Python?\n",
        "# a) dict = [1, 2, 3]\n",
        "# b) dict = {1, 2, 3}\n",
        "# c) dict = {\"one\": 1, \"two\": 2, \"three\": 3}\n",
        "# d) dict = (1, 2, 3)\n",
        "c\n",
        "### Question 13\n",
        "# What is the output of the following code?\n",
        "# x = [1, 2, 3, 4]\n",
        "# print(x[1:3])\n",
        "# a) [1, 2]\n",
        "# b) [2, 3]\n",
        "# c) [3, 4]\n",
        "# d) [2, 3, 4]\n",
        "b\n",
        "### Question 14\n",
        "# Which of the following methods can be used to add an element to a list?\n",
        "# a) append()\n",
        "# b) add()\n",
        "# c) insert()\n",
        "# d) extend()\n",
        "a\n",
        "### Question 15\n",
        "# What is the correct way to handle exceptions in Python?\n",
        "# a) try-except\n",
        "# b) try-catch\n",
        "# c) do-except\n",
        "# d) do-catch\n",
        "a\n",
        "---\n",
        "\n",
        "## Practice Questions\n",
        "\n",
        "### Question 1\n",
        "# Write a Python program to check if a number is even or odd.\n",
        "\n",
        "number = int(input(\"Enter a number: \"))\n",
        "if number % 2 == 0:\n",
        "    print(f\"{number} is even.\")\n",
        "else:\n",
        "    print(f\"{number} is odd.\")\n",
        "\n",
        "### Question 2\n",
        "# Write a Python program to find the factorial of a given number using a loop.\n",
        "\n",
        "def factorial(n):\n",
        "    result = 1\n",
        "    for i in range(1, n + 1):\n",
        "        result *= i\n",
        "    return result\n",
        "\n",
        "number = int(input(\"Enter a number: \"))\n",
        "print(f\"Factorial of {number} is {factorial(number)}.\")\n",
        "\n",
        "### Question 3\n",
        "# Write a Python program to create a list of the first 10 natural numbers and then print each number.\n",
        "\n",
        "natural_numbers = list(range(1, 11))\n",
        "for number in natural_numbers:\n",
        "    print(number)\n",
        "\n",
        "### Question 4\n",
        "# Write a Python program to calculate the sum of all numbers in a list.\n",
        "\n",
        "numbers = [1, 2, 3, 4, 5]\n",
        "print(f\"Sum of the list is {sum(numbers)}.\")\n",
        "\n",
        "### Question 5\n",
        "# Write a Python program to reverse a string.\n",
        "\n",
        "string = input(\"Enter a string: \")\n",
        "reversed_string = string[::-1]\n",
        "print(f\"Reversed string is: {reversed_string}\")\n",
        "\n",
        "### Question 6\n",
        "# Write a Python program to find the largest number in a list.\n",
        "\n",
        "numbers = [1, 2, 3, 4, 5]\n",
        "print(f\"Largest number in the list is {max(numbers)}.\")\n",
        "\n",
        "### Question 7\n",
        "# Write a Python program to print the multiplication table of any number provided by the user.\n",
        "\n",
        "number = int(input(\"Enter a number: \"))\n",
        "for i in range(1, 11):\n",
        "    print(f\"{number} x {i} = {number * i}\")\n",
        "\n",
        "### Question 8\n",
        "# Write a Python program to count the number of vowels in a string.\n",
        "\n",
        "vowels = \"aeiouAEIOU\"\n",
        "string = input(\"Enter a string: \")\n",
        "count = sum(1 for char in string if char in vowels)\n",
        "print(f\"Number of vowels in the string is: {count}\")\n",
        "\n",
        "### Question 9\n",
        "# Write a Python program to convert a list of tuples into a dictionary.\n",
        "\n",
        "tuples = [(\"one\", 1), (\"two\", 2), (\"three\", 3)]\n",
        "dictionary = dict(tuples)\n",
        "print(f\"Converted dictionary: {dictionary}\")\n",
        "\n",
        "### Question 10\n",
        "# Write a Python program to check if a given string is a palindrome.\n",
        "\n",
        "string = input(\"Enter a string: \")\n",
        "is_palindrome = string == string[::-1]\n",
        "print(f\"The string is a palindrome: {is_palindrome}\")\n"
      ]
    },
    {
      "cell_type": "code",
      "execution_count": 1,
      "id": "f87f0cd6-10e5-43d9-aa0f-ac44f1880427",
      "metadata": {
        "colab": {
          "base_uri": "https://localhost:8080/"
        },
        "id": "f87f0cd6-10e5-43d9-aa0f-ac44f1880427",
        "outputId": "d8114f58-1fc9-4755-a1ff-a43fff0d4ae9"
      },
      "outputs": [
        {
          "output_type": "stream",
          "name": "stdout",
          "text": [
            "Enter a number:26\n",
            "It's a even number.\n"
          ]
        }
      ],
      "source": [
        "#program to check if number is even or odd\n",
        "num=int(input(\"Enter a number:\"))\n",
        "if num %2 == 0:\n",
        "  print(\"It's a even number.\")\n",
        "else:\n",
        "  print(\"It's a odd number.\")"
      ]
    },
    {
      "cell_type": "code",
      "execution_count": 3,
      "id": "b65847e4-f05d-4eee-a186-eb801a0c9d8f",
      "metadata": {
        "id": "b65847e4-f05d-4eee-a186-eb801a0c9d8f"
      },
      "outputs": [],
      "source": [
        "#factorial of a given number using loop\n",
        "def factorial(num):\n",
        "  if num<0:\n",
        "    print(\"Not defined for negative.\")\n",
        "  elif num==0:\n",
        "    return 1\n",
        "  else:\n",
        "    fact = 1\n",
        "    for i in range(1,num + 1):\n",
        "      fact*=i\n",
        "      return fact\n"
      ]
    },
    {
      "cell_type": "code",
      "execution_count": 4,
      "id": "e40a96f9-72e1-437d-8e2b-b9360040a277",
      "metadata": {
        "colab": {
          "base_uri": "https://localhost:8080/"
        },
        "id": "e40a96f9-72e1-437d-8e2b-b9360040a277",
        "outputId": "2a007a6f-9132-46ef-882a-6ac781079b9e"
      },
      "outputs": [
        {
          "output_type": "stream",
          "name": "stdout",
          "text": [
            "First natural numbers: [1, 2, 3, 4, 5, 6, 7, 8, 9, 10]\n"
          ]
        }
      ],
      "source": [
        "#program to create a list of first 10 natural numbers and then print them\n",
        "num = list(range(1,11))\n",
        "print(\"First natural numbers:\", num)"
      ]
    },
    {
      "cell_type": "code",
      "execution_count": 5,
      "id": "cb93b572-fc58-45f3-b16c-c25194a6ee5f",
      "metadata": {
        "colab": {
          "base_uri": "https://localhost:8080/"
        },
        "id": "cb93b572-fc58-45f3-b16c-c25194a6ee5f",
        "outputId": "5cbb014e-7523-4066-a729-4433f10c98e3"
      },
      "outputs": [
        {
          "output_type": "stream",
          "name": "stdout",
          "text": [
            "Sum of list: 20\n"
          ]
        }
      ],
      "source": [
        "#program for sum of all numbers in a list\n",
        "num = [2,4,6,8]\n",
        "total= sum(num)\n",
        "print(\"Sum of list:\", total)"
      ]
    },
    {
      "cell_type": "code",
      "execution_count": 6,
      "id": "f5e00f97-195e-42c5-aee3-8e7d5e430cc9",
      "metadata": {
        "colab": {
          "base_uri": "https://localhost:8080/"
        },
        "id": "f5e00f97-195e-42c5-aee3-8e7d5e430cc9",
        "outputId": "77ca668e-0d73-492d-c8c6-4d2d87c222d5"
      },
      "outputs": [
        {
          "output_type": "stream",
          "name": "stdout",
          "text": [
            "Maximum number from list: 8\n"
          ]
        }
      ],
      "source": [
        "#program for largest number in a list\n",
        "#using max()\n",
        "num=[1,2,3,4,8,6]\n",
        "new= max(num)\n",
        "print(\"Maximum number from list:\",new)"
      ]
    },
    {
      "cell_type": "code",
      "execution_count": 8,
      "id": "4329d690-7d0c-432a-a9b8-fafa218c7526",
      "metadata": {
        "colab": {
          "base_uri": "https://localhost:8080/"
        },
        "id": "4329d690-7d0c-432a-a9b8-fafa218c7526",
        "outputId": "eab6abc3-7df6-43bb-e161-63a08c0ade0e"
      },
      "outputs": [
        {
          "output_type": "stream",
          "name": "stdout",
          "text": [
            "{'a': 1, 'b': 2, 'c': 3, 'd': 4}\n"
          ]
        }
      ],
      "source": [
        "#program to convert a list of tuples into a dictionary\n",
        "tuple_list = [(\"a\",1),(\"b\",2),(\"c\",3),(\"d\",4)]\n",
        "converted_list = dict(tuple_list)\n",
        "print(converted_list)"
      ]
    },
    {
      "cell_type": "code",
      "execution_count": 9,
      "id": "8d4325f9-d3d3-485e-8468-460ca97740d4",
      "metadata": {
        "colab": {
          "base_uri": "https://localhost:8080/"
        },
        "id": "8d4325f9-d3d3-485e-8468-460ca97740d4",
        "outputId": "ac4c63ff-5c47-4d65-f1d7-7b19f73aae1d"
      },
      "outputs": [
        {
          "output_type": "stream",
          "name": "stdout",
          "text": [
            "String\n",
            "gnirtS\n"
          ]
        }
      ],
      "source": [
        "#program to reverse a string\n",
        "def reverse(s):\n",
        "  return s[::-1]\n",
        "original = \"String\"\n",
        "new = reverse(original)\n",
        "print(original)\n",
        "print(new)"
      ]
    },
    {
      "cell_type": "code",
      "execution_count": 10,
      "id": "660fe550-6961-4fb4-a22d-19fcdb1a5fa1",
      "metadata": {
        "colab": {
          "base_uri": "https://localhost:8080/"
        },
        "id": "660fe550-6961-4fb4-a22d-19fcdb1a5fa1",
        "outputId": "9a45b650-7f90-46ec-c200-3835446eab5e"
      },
      "outputs": [
        {
          "output_type": "stream",
          "name": "stdout",
          "text": [
            "Enter a number:2\n",
            "2 X 1 = 2\n",
            "2 X 2 = 4\n",
            "2 X 3 = 6\n",
            "2 X 4 = 8\n",
            "2 X 5 = 10\n",
            "2 X 6 = 12\n",
            "2 X 7 = 14\n",
            "2 X 8 = 16\n",
            "2 X 9 = 18\n",
            "2 X 10 = 20\n"
          ]
        }
      ],
      "source": [
        "#program to print multiplication table of any number by user\n",
        "num = int(input(\"Enter a number:\"))\n",
        "for i in range(1,11):\n",
        "  print(f\"{num} X {i} = {num * i}\")"
      ]
    },
    {
      "cell_type": "code",
      "execution_count": 13,
      "id": "f55e2885-6f89-4cd6-9fcc-8d69ed9cf981",
      "metadata": {
        "colab": {
          "base_uri": "https://localhost:8080/"
        },
        "id": "f55e2885-6f89-4cd6-9fcc-8d69ed9cf981",
        "outputId": "90da514a-f504-47f8-b258-81a882a3f0d0"
      },
      "outputs": [
        {
          "output_type": "stream",
          "name": "stdout",
          "text": [
            "Enter a string:abiodsfja\n",
            "The numbers of vowels in string is: 4\n"
          ]
        }
      ],
      "source": [
        "#program to count number of vowels in a string\n",
        "def countit(s):\n",
        "  vowels ='aeiou'\n",
        "  count = 0\n",
        "  for  char in s:\n",
        "    if char in vowels:\n",
        "      count += 1\n",
        "  return count\n",
        "input_string = input(\"Enter a string:\")\n",
        "vowel_count = countit(input_string)\n",
        "print(f\"The numbers of vowels in string is: {vowel_count}\")\n"
      ]
    }
  ],
  "metadata": {
    "kernelspec": {
      "display_name": "Python 3 (ipykernel)",
      "language": "python",
      "name": "python3"
    },
    "language_info": {
      "codemirror_mode": {
        "name": "ipython",
        "version": 3
      },
      "file_extension": ".py",
      "mimetype": "text/x-python",
      "name": "python",
      "nbconvert_exporter": "python",
      "pygments_lexer": "ipython3",
      "version": "3.10.12"
    },
    "colab": {
      "provenance": [],
      "toc_visible": true,
      "include_colab_link": true
    }
  },
  "nbformat": 4,
  "nbformat_minor": 5
}